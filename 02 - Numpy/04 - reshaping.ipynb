{
 "cells": [
  {
   "cell_type": "code",
   "execution_count": 8,
   "metadata": {},
   "outputs": [
    {
     "data": {
      "text/plain": [
       "array([['Ecuador', 'Peru', 'Colombia', 'Mexico'],\n",
       "       ['EU', 'Francia', 'China', 'Rusia']], dtype='<U8')"
      ]
     },
     "execution_count": 8,
     "metadata": {},
     "output_type": "execute_result"
    }
   ],
   "source": [
    "import numpy as np\n",
    "paises_uno =np.array([\"Ecuador\",\"Peru\",\"Colombia\",\"Mexico\"])\n",
    "paises_dos=np.array([\"EU\",\"Francia\",\"China\",\"Rusia\"])\n",
    "paises_2d=np.array([paises_uno,paises_dos])\n",
    "paises_2d"
   ]
  },
  {
   "cell_type": "code",
   "execution_count": 9,
   "metadata": {},
   "outputs": [
    {
     "data": {
      "text/plain": [
       "array([[['Ecuador', 'Peru'],\n",
       "        ['Colombia', 'Mexico']],\n",
       "\n",
       "       [['EU', 'Francia'],\n",
       "        ['China', 'Rusia']]], dtype='<U8')"
      ]
     },
     "execution_count": 9,
     "metadata": {},
     "output_type": "execute_result"
    }
   ],
   "source": [
    "paises_2d.reshape(2,2,2)"
   ]
  },
  {
   "cell_type": "code",
   "execution_count": 13,
   "metadata": {},
   "outputs": [],
   "source": [
    "#paises_2d.flatten().reshape(7,2,-1)"
   ]
  },
  {
   "cell_type": "code",
   "execution_count": 14,
   "metadata": {},
   "outputs": [
    {
     "name": "stdout",
     "output_type": "stream",
     "text": [
      "[['Ecuador' 'Peru' 'Colombia' 'Mexico']\n",
      " ['EU' 'Francia' 'China' 'Rusia']]\n",
      "(2, 4)\n",
      "[['Ecuador' 'EU']\n",
      " ['Peru' 'Francia']\n",
      " ['Colombia' 'China']\n",
      " ['Mexico' 'Rusia']]\n",
      "(4, 2)\n"
     ]
    }
   ],
   "source": [
    "print(paises_2d)\n",
    "print(paises_2d.shape)\n",
    "print(paises_2d.T)\n",
    "print(paises_2d.T.shape)"
   ]
  },
  {
   "cell_type": "code",
   "execution_count": 15,
   "metadata": {},
   "outputs": [
    {
     "data": {
      "text/plain": [
       "[array([['Ecuador', 'Peru', 'Colombia', 'Mexico']], dtype='<U8'),\n",
       " array([['EU', 'Francia', 'China', 'Rusia']], dtype='<U8')]"
      ]
     },
     "execution_count": 15,
     "metadata": {},
     "output_type": "execute_result"
    }
   ],
   "source": [
    "np.split(paises_2d,2)\n"
   ]
  },
  {
   "cell_type": "code",
   "execution_count": 17,
   "metadata": {},
   "outputs": [
    {
     "data": {
      "text/plain": [
       "[array(['Ecuador'], dtype='<U8'),\n",
       " array(['Peru', 'Colombia'], dtype='<U8'),\n",
       " array(['Mexico', 'EU', 'Francia', 'China', 'Rusia'], dtype='<U8')]"
      ]
     },
     "execution_count": 17,
     "metadata": {},
     "output_type": "execute_result"
    }
   ],
   "source": [
    "np.split(paises_2d.flatten(),[1,3])"
   ]
  },
  {
   "cell_type": "code",
   "execution_count": 18,
   "metadata": {},
   "outputs": [
    {
     "data": {
      "text/plain": [
       "list"
      ]
     },
     "execution_count": 18,
     "metadata": {},
     "output_type": "execute_result"
    }
   ],
   "source": [
    "type(np.split(paises_2d.flatten(),[1,3]))"
   ]
  },
  {
   "cell_type": "code",
   "execution_count": 20,
   "metadata": {},
   "outputs": [
    {
     "data": {
      "text/plain": [
       "[array(['Ecuador', 'Peru'], dtype='<U8'),\n",
       " array(['Colombia', 'Mexico'], dtype='<U8'),\n",
       " array(['EU', 'Francia'], dtype='<U8'),\n",
       " array(['China', 'Rusia'], dtype='<U8')]"
      ]
     },
     "execution_count": 20,
     "metadata": {},
     "output_type": "execute_result"
    }
   ],
   "source": [
    "lista=np.split(paises_2d.flatten(),4)\n",
    "lista"
   ]
  },
  {
   "cell_type": "code",
   "execution_count": 21,
   "metadata": {},
   "outputs": [
    {
     "data": {
      "text/plain": [
       "array(['Ecuador', 'Peru'], dtype='<U8')"
      ]
     },
     "execution_count": 21,
     "metadata": {},
     "output_type": "execute_result"
    }
   ],
   "source": [
    "lista[0]"
   ]
  },
  {
   "cell_type": "code",
   "execution_count": 24,
   "metadata": {},
   "outputs": [
    {
     "data": {
      "text/plain": [
       "array([['Ecuador', 'Peru', 'Colombia', 'Mexico'],\n",
       "       ['EU', 'Francia', 'China', 'Rusia']], dtype='<U8')"
      ]
     },
     "execution_count": 24,
     "metadata": {},
     "output_type": "execute_result"
    }
   ],
   "source": [
    "paises_2d"
   ]
  },
  {
   "cell_type": "code",
   "execution_count": 25,
   "metadata": {},
   "outputs": [
    {
     "name": "stdout",
     "output_type": "stream",
     "text": [
      "[array([['Ecuador', 'Peru'],\n",
      "       ['EU', 'Francia']], dtype='<U8'), array([['Colombia', 'Mexico'],\n",
      "       ['China', 'Rusia']], dtype='<U8')]\n"
     ]
    }
   ],
   "source": [
    "print(np.hsplit(paises_2d,2))"
   ]
  },
  {
   "cell_type": "code",
   "execution_count": 26,
   "metadata": {},
   "outputs": [
    {
     "name": "stdout",
     "output_type": "stream",
     "text": [
      "[array([['Ecuador', 'Peru', 'Colombia', 'Mexico']], dtype='<U8'), array([['EU', 'Francia', 'China', 'Rusia']], dtype='<U8')]\n"
     ]
    }
   ],
   "source": [
    "print(np.vsplit(paises_2d,2))"
   ]
  },
  {
   "cell_type": "code",
   "execution_count": null,
   "metadata": {},
   "outputs": [],
   "source": []
  }
 ],
 "metadata": {
  "kernelspec": {
   "display_name": "Python 3",
   "language": "python",
   "name": "python3"
  },
  "language_info": {
   "codemirror_mode": {
    "name": "ipython",
    "version": 3
   },
   "file_extension": ".py",
   "mimetype": "text/x-python",
   "name": "python",
   "nbconvert_exporter": "python",
   "pygments_lexer": "ipython3",
   "version": "3.7.6"
  }
 },
 "nbformat": 4,
 "nbformat_minor": 4
}
