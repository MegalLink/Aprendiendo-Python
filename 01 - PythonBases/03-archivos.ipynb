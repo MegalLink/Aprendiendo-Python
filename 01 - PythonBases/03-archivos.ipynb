{
 "cells": [
  {
   "cell_type": "code",
   "execution_count": 22,
   "metadata": {},
   "outputs": [
    {
     "name": "stdout",
     "output_type": "stream",
     "text": [
      "Buenos dÃ­as\n",
      "['Buenos dÃ\\xadas']\n"
     ]
    }
   ],
   "source": [
    "try:\n",
    "    path=\"./frases.txt\"\n",
    "    archivo_abierto=open(path)\n",
    "    #linea_uno=archivo_abierto.readline() #string\n",
    "    lineas=archivo_abierto.readlines() #arreglo\n",
    "    print(linea_uno)\n",
    "    print(lineas)\n",
    "    archivo_abierto.close()\n",
    "except Exception as Error:\n",
    "    print(\"Error leyendo archivo\")"
   ]
  },
  {
   "cell_type": "code",
   "execution_count": 24,
   "metadata": {},
   "outputs": [],
   "source": [
    "try:\n",
    "    path=\"./frases.txt\"\n",
    "    #archivo_abierto=open(path,'w')\n",
    "    archivo_abierto=open(path,'a')\n",
    "    archivo_abierto.write(\"\\nBuenas noches\")\n",
    "    archivo_abierto.close()\n",
    "except Exception as Error:\n",
    "    print(\"Error leyendo archivo\")"
   ]
  },
  {
   "cell_type": "code",
   "execution_count": null,
   "metadata": {},
   "outputs": [],
   "source": []
  },
  {
   "cell_type": "code",
   "execution_count": null,
   "metadata": {},
   "outputs": [],
   "source": []
  },
  {
   "cell_type": "code",
   "execution_count": null,
   "metadata": {},
   "outputs": [],
   "source": []
  }
 ],
 "metadata": {
  "kernelspec": {
   "display_name": "Python 3",
   "language": "python",
   "name": "python3"
  },
  "language_info": {
   "codemirror_mode": {
    "name": "ipython",
    "version": 3
   },
   "file_extension": ".py",
   "mimetype": "text/x-python",
   "name": "python",
   "nbconvert_exporter": "python",
   "pygments_lexer": "ipython3",
   "version": "3.7.6"
  }
 },
 "nbformat": 4,
 "nbformat_minor": 4
}
