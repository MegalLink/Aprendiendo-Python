{
 "cells": [
  {
   "cell_type": "code",
   "execution_count": 5,
   "metadata": {},
   "outputs": [
    {
     "data": {
      "text/plain": [
       "10"
      ]
     },
     "execution_count": 5,
     "metadata": {},
     "output_type": "execute_result"
    }
   ],
   "source": [
    "def calculadora(num_a,num_b,operacion=\"suma\"):\n",
    "    def suma():\n",
    "        return num_a+num_b\n",
    "    def resta():\n",
    "        return num_a-num_b\n",
    "    def multiplicacion():\n",
    "        return num_a*num_b\n",
    "    def division():\n",
    "        return num_a/num_b\n",
    "    def devolver_respuesta():\n",
    "        opciones={ # con parentesis ya se estan ejecutando las funciones,\n",
    "            #pero sin parentesis nos devuelve la definicion de la funcion\n",
    "           # \"suma\":suma(),\n",
    "            #\"resta\":resta(),\n",
    "           # \"multiplicacion\":multiplicacion(),\n",
    "            #\"division\":division()\n",
    "             \"suma\":suma,\n",
    "             \"resta\":resta,\n",
    "             \"multiplicacion\":multiplicacion,\n",
    "             \"division\":division\n",
    "        }\n",
    "        #return opciones[operacion]\n",
    "        return opciones[operacion]()#agrego los parentesis para que se ejecute la funcion\n",
    "    return devolver_respuesta()\n",
    "calculadora(2,5,\"multiplicacion\")"
   ]
  },
  {
   "cell_type": "code",
   "execution_count": null,
   "metadata": {},
   "outputs": [],
   "source": []
  }
 ],
 "metadata": {
  "kernelspec": {
   "display_name": "Python 3",
   "language": "python",
   "name": "python3"
  },
  "language_info": {
   "codemirror_mode": {
    "name": "ipython",
    "version": 3
   },
   "file_extension": ".py",
   "mimetype": "text/x-python",
   "name": "python",
   "nbconvert_exporter": "python",
   "pygments_lexer": "ipython3",
   "version": "3.7.6"
  }
 },
 "nbformat": 4,
 "nbformat_minor": 4
}
