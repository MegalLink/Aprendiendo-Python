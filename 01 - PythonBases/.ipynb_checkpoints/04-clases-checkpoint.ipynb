{
 "cells": [
  {
   "cell_type": "code",
   "execution_count": 2,
   "metadata": {},
   "outputs": [
    {
     "data": {
      "text/plain": [
       "4"
      ]
     },
     "execution_count": 2,
     "metadata": {},
     "output_type": "execute_result"
    }
   ],
   "source": [
    "#Funciones lambda\n",
    "al_cuadrado=lambda x:x*x\n",
    "al_cuadrado(2)"
   ]
  },
  {
   "cell_type": "code",
   "execution_count": 3,
   "metadata": {},
   "outputs": [
    {
     "data": {
      "text/plain": [
       "8"
      ]
     },
     "execution_count": 3,
     "metadata": {},
     "output_type": "execute_result"
    }
   ],
   "source": [
    "suma= lambda x,y: x+y\n",
    "suma(3,5)"
   ]
  },
  {
   "cell_type": "code",
   "execution_count": 7,
   "metadata": {},
   "outputs": [],
   "source": [
    "#Clases\n",
    "class Nada:\n",
    "    pass\n"
   ]
  },
  {
   "cell_type": "code",
   "execution_count": 10,
   "metadata": {},
   "outputs": [
    {
     "name": "stdout",
     "output_type": "stream",
     "text": [
      "<class '__main__.Nada'>\n"
     ]
    }
   ],
   "source": [
    "una_nada=Nada()\n",
    "\n",
    "print(type(una_nada))"
   ]
  },
  {
   "cell_type": "code",
   "execution_count": 33,
   "metadata": {},
   "outputs": [
    {
     "name": "stdout",
     "output_type": "stream",
     "text": [
      "Empieza el constructor\n",
      "blanco\n",
      "Color: blanco \n",
      " Numero chasis:120\n"
     ]
    }
   ],
   "source": [
    "class Auto:\n",
    "    color=None\n",
    "    __numero_chasis=1 #atributo privado\n",
    "    def __init__(self,color):  #Asi se define el constructor el self es como this\n",
    "        print(\"Empieza el constructor\")\n",
    "        self.color=color\n",
    "    def setear_chasis(self,numero_chasis):\n",
    "        self.__numero_chasis=numero_chasis\n",
    "        return self.__calculo_chasis()\n",
    "    def __calculo_chasis(self):\n",
    "        return self.__numero_chasis*1.17\n",
    "    #to string\n",
    "    def __str__(self):\n",
    "        return f\"Color: {self.color} \\n Numero chasis:{self.__numero_chasis}\"\n",
    "\n",
    "auto_uno=Auto(\"blanco\")\n",
    "print(auto_uno.color)\n",
    "auto_uno.setear_chasis(120)\n",
    "print(auto_uno)"
   ]
  },
  {
   "cell_type": "code",
   "execution_count": 34,
   "metadata": {},
   "outputs": [],
   "source": [
    "#Herencia\n",
    "class BMW(Auto):\n",
    "    def __init__(self,color,chasis):\n",
    "        print(\"iniciar constructor hijo\")\n",
    "        super().__init__(color)\n",
    "        super().setear_chasis(chasis)"
   ]
  },
  {
   "cell_type": "code",
   "execution_count": 37,
   "metadata": {},
   "outputs": [
    {
     "name": "stdout",
     "output_type": "stream",
     "text": [
      "iniciar constructor hijo\n",
      "Empieza el constructor\n",
      "Color: negro \n",
      " Numero chasis:150\n"
     ]
    }
   ],
   "source": [
    "bmw_auto=BMW(\"negro\",150)\n",
    "print(bmw_auto)"
   ]
  },
  {
   "cell_type": "code",
   "execution_count": null,
   "metadata": {},
   "outputs": [],
   "source": []
  }
 ],
 "metadata": {
  "kernelspec": {
   "display_name": "Python 3",
   "language": "python",
   "name": "python3"
  },
  "language_info": {
   "codemirror_mode": {
    "name": "ipython",
    "version": 3
   },
   "file_extension": ".py",
   "mimetype": "text/x-python",
   "name": "python",
   "nbconvert_exporter": "python",
   "pygments_lexer": "ipython3",
   "version": "3.7.6"
  }
 },
 "nbformat": 4,
 "nbformat_minor": 4
}
