{
 "cells": [
  {
   "cell_type": "code",
   "execution_count": 2,
   "metadata": {},
   "outputs": [
    {
     "name": "stdout",
     "output_type": "stream",
     "text": [
      "hola mundo\n"
     ]
    },
    {
     "data": {
      "text/plain": [
       "NoneType"
      ]
     },
     "execution_count": 2,
     "metadata": {},
     "output_type": "execute_result"
    }
   ],
   "source": [
    "#Funciones\n",
    "def hola_mundo():\n",
    "    print(\"hola mundo\")\n",
    "type(hola_mundo())"
   ]
  },
  {
   "cell_type": "code",
   "execution_count": 4,
   "metadata": {},
   "outputs": [
    {
     "name": "stdout",
     "output_type": "stream",
     "text": [
      "La suma de 2 y 3 es igual a 5\n"
     ]
    }
   ],
   "source": [
    "def sumar_dos_numeros(num_uno,num_dos): \n",
    "    return num_uno + num_dos\n",
    "print(f\"La suma de 2 y 3 es igual a {sumar_dos_numeros(2,3)}\")"
   ]
  },
  {
   "cell_type": "code",
   "execution_count": 5,
   "metadata": {},
   "outputs": [
    {
     "name": "stdout",
     "output_type": "stream",
     "text": [
      "Universidad: EPN\n",
      "Universidad: UCE\n"
     ]
    }
   ],
   "source": [
    "def imprimir_universidad(nombre=\"EPN\"): #Parametro Opcional\n",
    "    print(f\"Universidad: {nombre}\")\n",
    "imprimir_universidad()\n",
    "imprimir_universidad(\"UCE\")"
   ]
  },
  {
   "cell_type": "code",
   "execution_count": 8,
   "metadata": {},
   "outputs": [
    {
     "name": "stdout",
     "output_type": "stream",
     "text": [
      "Color:blanco\n",
      "Placa:ABD123\n",
      "Hp:4000\n",
      "Anio:1996\n"
     ]
    }
   ],
   "source": [
    "def imprimir_carro(color,placa,hp,anio=1996):\n",
    "    print(f\"Color:{color}\")\n",
    "    print(f\"Placa:{placa}\")\n",
    "    print(f\"Hp:{hp}\")\n",
    "    print(f\"Anio:{anio}\")\n",
    "imprimir_carro(\"blanco\",\"ABD123\",4000)"
   ]
  },
  {
   "cell_type": "code",
   "execution_count": 10,
   "metadata": {},
   "outputs": [
    {
     "name": "stdout",
     "output_type": "stream",
     "text": [
      "Color:Blanco\n",
      "Placa:DEF456\n",
      "Hp:2500\n",
      "Anio:2000\n"
     ]
    }
   ],
   "source": [
    "#Named Parameters solo se debe usar o bien los parametros nombrados o bien en el orden que esta definido en la funcion\n",
    "imprimir_carro(anio=2000,placa=\"DEF456\",hp=2500,color=\"Blanco\")"
   ]
  },
  {
   "cell_type": "code",
   "execution_count": 13,
   "metadata": {},
   "outputs": [
    {
     "data": {
      "text/plain": [
       "21"
      ]
     },
     "execution_count": 13,
     "metadata": {},
     "output_type": "execute_result"
    }
   ],
   "source": [
    "def sumar_numeros(primer_numero, *numeros): #* parametros infinitos\n",
    "    suma=primer_numero\n",
    "    for numero in numeros:\n",
    "        suma=suma+numero\n",
    "    return suma\n",
    "sumar_numeros(1,2,3,4,5,6)\n",
    "    "
   ]
  },
  {
   "cell_type": "code",
   "execution_count": 15,
   "metadata": {},
   "outputs": [
    {
     "name": "stdout",
     "output_type": "stream",
     "text": [
      "{'saludo': 'hola', 'mensaje': 'mundo'}\n",
      "<class 'dict'>\n"
     ]
    }
   ],
   "source": [
    "def establecer_configuracion(**configuracion): #Diccionario como parametro estas son los valores\n",
    "    print(configuracion)\n",
    "    print(type(configuracion))\n",
    "establecer_configuracion(saludo=\"hola\",mensaje=\"mundo\") #al usar declaramos las llaves con parametros nombrados\n",
    "    "
   ]
  },
  {
   "cell_type": "code",
   "execution_count": null,
   "metadata": {},
   "outputs": [],
   "source": [
    "#Reglas\n",
    "def ejemplo(requerido_uno,requerido_dos,opciona_uno=1,opciona_dos=2,*infinitos,**kwargs):\n",
    "    print(\":)\")"
   ]
  }
 ],
 "metadata": {
  "kernelspec": {
   "display_name": "Python 3",
   "language": "python",
   "name": "python3"
  },
  "language_info": {
   "codemirror_mode": {
    "name": "ipython",
    "version": 3
   },
   "file_extension": ".py",
   "mimetype": "text/x-python",
   "name": "python",
   "nbconvert_exporter": "python",
   "pygments_lexer": "ipython3",
   "version": "3.7.6"
  }
 },
 "nbformat": 4,
 "nbformat_minor": 4
}
