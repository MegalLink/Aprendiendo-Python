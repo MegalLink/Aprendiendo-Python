{
 "cells": [
  {
   "cell_type": "markdown",
   "metadata": {},
   "source": [
    "# Titulo 1\n",
    "###### Titulo 6\n",
    "\n",
    "![alt text](https://github.com/adam-p/markdown-here/raw/master/src/common/images/icon48.png \"Logo Title Text 1\")\n",
    "\n",
    "```javascript\n",
    "var s = \"JavaScript syntax highlighting\";\n",
    "alert(s);\n",
    "```\n",
    " \n",
    "```python\n",
    "s = \"Python syntax highlighting\"\n",
    "print s\n",
    "```\n",
    " \n",
    "```\n",
    "No language indicated, so no syntax highlighting. \n",
    "But let's throw in a <b>tag</b>.\n",
    "```"
   ]
  },
  {
   "cell_type": "code",
   "execution_count": 14,
   "metadata": {},
   "outputs": [
    {
     "name": "stdout",
     "output_type": "stream",
     "text": [
      "Hola Mundo\n"
     ]
    }
   ],
   "source": [
    "print(\"Hola Mundo\")"
   ]
  },
  {
   "cell_type": "code",
   "execution_count": 16,
   "metadata": {},
   "outputs": [
    {
     "name": "stdout",
     "output_type": "stream",
     "text": [
      "Hola Mundo\n"
     ]
    }
   ],
   "source": [
    "print(\"Hola Mundo\")"
   ]
  },
  {
   "cell_type": "code",
   "execution_count": 15,
   "metadata": {},
   "outputs": [
    {
     "name": "stdout",
     "output_type": "stream",
     "text": [
      "Hola Mundo\n"
     ]
    }
   ],
   "source": [
    "print(\"Hola Mundo\")"
   ]
  },
  {
   "cell_type": "code",
   "execution_count": 29,
   "metadata": {},
   "outputs": [
    {
     "name": "stdout",
     "output_type": "stream",
     "text": [
      "<class 'int'>\n",
      "<class 'float'>\n",
      "<class 'str'>\n",
      "<class 'str'>\n",
      "<class 'str'>\n",
      "<class 'bool'>\n",
      "<class 'bool'>\n",
      "<class 'NoneType'>\n",
      "<class 'float'>\n"
     ]
    }
   ],
   "source": [
    "# No tipado!\n",
    "# Variables Primitivas\n",
    "entero = 4\n",
    "decimales = 1.1\n",
    "nombre = \"Vicente\"\n",
    "segundo_nombre = \"Adrian\" # segundoNombre X -> MAL\n",
    "apellido = 'Eguez'\n",
    "casado = False\n",
    "profesor = True\n",
    "hijos = None\n",
    "print(type(entero)) # int\n",
    "print(type(decimales)) # float\n",
    "print(type(nombre)) # str\n",
    "print(type(segundo_nombre)) # str\n",
    "print(type(apellido)) # str\n",
    "print(type(casado)) # bool\n",
    "print(type(profesor)) # bool\n",
    "print(type(hijos)) # NoneType\n",
    "print(type(float('nan'))) # float Not A Number nan"
   ]
  },
  {
   "cell_type": "code",
   "execution_count": 26,
   "metadata": {},
   "outputs": [
    {
     "name": "stdout",
     "output_type": "stream",
     "text": [
      "\n",
      "Here's a line for us to start with.\n",
      "\n",
      "This line is separated from the one above by two newlines, so it will be a separate paragraph.\n",
      "\n",
      "This line is also begins a separate paragraph, but...\n",
      "This line is only separated by a single newline, so it's a separate line in the same paragraph.\n",
      "\n",
      "(Technical note: Markdown Here uses GFM line breaks, so there's no need to use MD's two-space line breaks.)\n",
      "\n",
      "\n"
     ]
    }
   ],
   "source": [
    "cadena_de_texto = \"\"\"\n",
    "Here's a line for us to start with.\n",
    "\n",
    "This line is separated from the one above by two newlines, so it will be a separate paragraph.\n",
    "\n",
    "This line is also begins a separate paragraph, but...\n",
    "This line is only separated by a single newline, so it's a separate line in the same paragraph.\n",
    "\n",
    "(Technical note: Markdown Here uses GFM line breaks, so there's no need to use MD's two-space line breaks.)\n",
    "\n",
    "\"\"\"\n",
    "print(cadena_de_texto)"
   ]
  },
  {
   "cell_type": "code",
   "execution_count": 30,
   "metadata": {},
   "outputs": [
    {
     "name": "stdout",
     "output_type": "stream",
     "text": [
      "4\n",
      "Vicente\n"
     ]
    }
   ],
   "source": [
    "print(entero)\n",
    "entero = decimales\n",
    "entero = hijos\n",
    "entero = casado\n",
    "entero = nombre\n",
    "print(entero)\n",
    "# CAPA 8 !!"
   ]
  },
  {
   "cell_type": "code",
   "execution_count": 4,
   "metadata": {},
   "outputs": [
    {
     "name": "stdout",
     "output_type": "stream",
     "text": [
      "Truty\n",
      "Falsy\n",
      "Falsy\n",
      "Truty\n",
      "Falsy\n",
      "Truty\n",
      "Truty\n",
      "Truty\n",
      "Falsy\n",
      "Falsy\n",
      "Truty\n",
      "Falsy\n",
      "Truty\n",
      "Falsy\n",
      "Truty\n"
     ]
    }
   ],
   "source": [
    "# Condiciones\n",
    "# Truty - Falsy\n",
    "tuplas = (1,2,3) # Arreglos que no se pueden modificar\n",
    "listas = [4,5,6] # Arreglos que se pueden modificar\n",
    "diccionario = {\n",
    "    \"nombre\":\"Adrian\"\n",
    "}\n",
    "nombre = 'Adrian'\n",
    "if(nombre): # Truty\n",
    "    # ...\n",
    "    # ...\n",
    "    print('Truty')\n",
    "else:\n",
    "    # ...\n",
    "    # ...\n",
    "    print('Falsy')\n",
    "\n",
    "if(''): # Falsy\n",
    "    print('Truty')\n",
    "else:\n",
    "    print('Falsy')\n",
    "\n",
    "\n",
    "nulo = None\n",
    "if(nulo): # Falsy\n",
    "    print('Truty')\n",
    "else:\n",
    "    print('Falsy')\n",
    "\n",
    "if(1): # Truty\n",
    "    print('Truty')\n",
    "else:\n",
    "    print('Falsy')\n",
    "    \n",
    "if(0): # Falsy\n",
    "    print('Truty')\n",
    "else:\n",
    "    print('Falsy')\n",
    "    \n",
    "if(-1): # Truty\n",
    "    print('Truty')\n",
    "else:\n",
    "    print('Falsy')\n",
    "    \n",
    "    \n",
    "if(-1.1): # Truty\n",
    "    print('Truty')\n",
    "else:\n",
    "    print('Falsy')\n",
    "\n",
    "if(1.2): # Truty\n",
    "    print('Truty')\n",
    "else:\n",
    "    print('Falsy')\n",
    "    \n",
    "if(0.0): # Falsy\n",
    "    print('Truty')\n",
    "else:\n",
    "    print('Falsy')\n",
    "    \n",
    "    \n",
    "    \n",
    "if(()): # Falsy\n",
    "    print('Truty')\n",
    "else:\n",
    "    print('Falsy')\n",
    "    \n",
    "if((1,2,3)): # Truty\n",
    "    print('Truty')\n",
    "else:\n",
    "    print('Falsy')\n",
    "    \n",
    "if([]): # Falsy\n",
    "    print('Truty')\n",
    "else:\n",
    "    print('Falsy')\n",
    "    \n",
    "if([1,2,3]): # Truty\n",
    "    print('Truty')\n",
    "else:\n",
    "    print('Falsy')\n",
    "\n",
    "if({}): # Falsy\n",
    "    print('Truty')\n",
    "else:\n",
    "    print('Falsy')\n",
    "    \n",
    "nombre = \"nombre\"\n",
    "if({nombre: \"Adrian\"}): # Truty\n",
    "    print('Truty')\n",
    "else:\n",
    "    print('Falsy')\n",
    "\n"
   ]
  },
  {
   "cell_type": "code",
   "execution_count": 5,
   "metadata": {},
   "outputs": [],
   "source": [
    "arreglo = [1, 2, 3, 4, 5, 6, 7, 8, 9, 10]"
   ]
  },
  {
   "cell_type": "code",
   "execution_count": 10,
   "metadata": {},
   "outputs": [
    {
     "data": {
      "text/plain": [
       "[4, 5, 6, 7, 8]"
      ]
     },
     "execution_count": 10,
     "metadata": {},
     "output_type": "execute_result"
    }
   ],
   "source": [
    "arreglo[0:3] # [0,3[\n",
    "arreglo[5:] # Hasta el final\n",
    "arreglo[:7] # Desde el principio\n",
    "arreglo[-10] # Indice negativo empieza FINAL\n",
    "arreglo[3:-2] \n",
    "arreglo[-8:8] "
   ]
  },
  {
   "cell_type": "code",
   "execution_count": null,
   "metadata": {},
   "outputs": [],
   "source": []
  },
  {
   "cell_type": "code",
   "execution_count": null,
   "metadata": {},
   "outputs": [],
   "source": []
  },
  {
   "cell_type": "code",
   "execution_count": null,
   "metadata": {},
   "outputs": [],
   "source": []
  },
  {
   "cell_type": "code",
   "execution_count": null,
   "metadata": {},
   "outputs": [],
   "source": []
  },
  {
   "cell_type": "code",
   "execution_count": null,
   "metadata": {},
   "outputs": [],
   "source": []
  },
  {
   "cell_type": "code",
   "execution_count": null,
   "metadata": {},
   "outputs": [],
   "source": []
  }
 ],
 "metadata": {
  "kernelspec": {
   "display_name": "Python 3",
   "language": "python",
   "name": "python3"
  },
  "language_info": {
   "codemirror_mode": {
    "name": "ipython",
    "version": 3
   },
   "file_extension": ".py",
   "mimetype": "text/x-python",
   "name": "python",
   "nbconvert_exporter": "python",
   "pygments_lexer": "ipython3",
   "version": "3.7.6"
  }
 },
 "nbformat": 4,
 "nbformat_minor": 4
}
